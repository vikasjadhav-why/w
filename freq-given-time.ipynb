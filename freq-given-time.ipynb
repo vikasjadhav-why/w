{
 "cells": [
  {
   "cell_type": "code",
   "execution_count": 1,
   "id": "10987a1c",
   "metadata": {},
   "outputs": [
    {
     "name": "stderr",
     "output_type": "stream",
     "text": [
      "PyCBC.libutils: pkg-config call failed, setting NO_PKGCONFIG=1\n"
     ]
    }
   ],
   "source": [
    "import h5py\n",
    "from pycbc.detector import Detector\n",
    "from pycbc.waveform import get_fd_waveform\n",
    "from pycbc.psd.read import from_txt\n",
    "from pycbc.filter import sigma\n",
    "from tqdm import tqdm\n",
    "import numpy as np\n",
    "import matplotlib.pyplot as plt\n",
    "from tqdm import tqdm"
   ]
  },
  {
   "cell_type": "code",
   "execution_count": 2,
   "id": "1f34a7d9",
   "metadata": {},
   "outputs": [],
   "source": [
    "from pycbc.waveform.spa_tmplt import spa_length_in_time\n",
    "from scipy.optimize import minimize"
   ]
  },
  {
   "cell_type": "code",
   "execution_count": 3,
   "id": "ecce577a",
   "metadata": {},
   "outputs": [],
   "source": [
    "## given time is 1 second\n",
    "time = 1"
   ]
  },
  {
   "cell_type": "code",
   "execution_count": 4,
   "id": "33d4c1dc",
   "metadata": {},
   "outputs": [],
   "source": [
    "params = {'approximant':'TaylorF2',\n",
    "          'mass1':1.4,\n",
    "          'mass2':1.4,\n",
    "          'delta_f':0.1,\n",
    "          'f_lower':0.0001,\n",
    "          'phase_order': -1}"
   ]
  },
  {
   "cell_type": "code",
   "execution_count": 5,
   "id": "d241fbf9",
   "metadata": {},
   "outputs": [],
   "source": [
    "hp, hc = get_fd_waveform(**params)\n",
    "strain = hp + hc"
   ]
  },
  {
   "cell_type": "code",
   "execution_count": 6,
   "id": "8fb7b16a",
   "metadata": {},
   "outputs": [],
   "source": [
    "def find_freq(f_lower, data, target):\n",
    "    data.update({'f_lower':f_lower})\n",
    "    guess = spa_length_in_time(**data)\n",
    "    return abs(target - guess)"
   ]
  },
  {
   "cell_type": "code",
   "execution_count": 7,
   "id": "fc3de243",
   "metadata": {},
   "outputs": [
    {
     "data": {
      "text/plain": [
       "       message: Optimization terminated successfully.\n",
       "       success: True\n",
       "        status: 0\n",
       "           fun: 4.792209421511373e-07\n",
       "             x: [ 1.337e+02]\n",
       "           nit: 23\n",
       "          nfev: 46\n",
       " final_simplex: (array([[ 1.337e+02],\n",
       "                       [ 1.337e+02]]), array([ 4.792e-07,  6.036e-07]))"
      ]
     },
     "execution_count": 7,
     "metadata": {},
     "output_type": "execute_result"
    }
   ],
   "source": [
    "soln = minimize(find_freq, x0=70, args=(params,time), method='Nelder-Mead')\n",
    "soln"
   ]
  },
  {
   "cell_type": "code",
   "execution_count": 8,
   "id": "b8f985ee",
   "metadata": {},
   "outputs": [
    {
     "data": {
      "text/plain": [
       "array([133.65203094])"
      ]
     },
     "execution_count": 8,
     "metadata": {},
     "output_type": "execute_result"
    }
   ],
   "source": [
    "x = soln.x\n",
    "x"
   ]
  },
  {
   "cell_type": "code",
   "execution_count": 9,
   "id": "628bbbd2",
   "metadata": {},
   "outputs": [
    {
     "data": {
      "text/plain": [
       "{'approximant': 'TaylorF2',\n",
       " 'mass1': 1.4,\n",
       " 'mass2': 1.4,\n",
       " 'delta_f': 0.1,\n",
       " 'f_lower': array([133.65203094]),\n",
       " 'phase_order': -1}"
      ]
     },
     "execution_count": 9,
     "metadata": {},
     "output_type": "execute_result"
    }
   ],
   "source": [
    "params # realize f_lower is changed"
   ]
  },
  {
   "cell_type": "code",
   "execution_count": 10,
   "id": "ff74267d",
   "metadata": {},
   "outputs": [
    {
     "data": {
      "text/plain": [
       "array([0.99999952])"
      ]
     },
     "execution_count": 10,
     "metadata": {},
     "output_type": "execute_result"
    }
   ],
   "source": [
    "spa_length_in_time(**params) "
   ]
  }
 ],
 "metadata": {
  "kernelspec": {
   "display_name": "Python 3 (ipykernel)",
   "language": "python",
   "name": "python3"
  },
  "language_info": {
   "codemirror_mode": {
    "name": "ipython",
    "version": 3
   },
   "file_extension": ".py",
   "mimetype": "text/x-python",
   "name": "python",
   "nbconvert_exporter": "python",
   "pygments_lexer": "ipython3",
   "version": "3.11.7"
  }
 },
 "nbformat": 4,
 "nbformat_minor": 5
}
