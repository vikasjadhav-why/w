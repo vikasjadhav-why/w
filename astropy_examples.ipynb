{
 "cells": [
  {
   "cell_type": "code",
   "execution_count": 14,
   "id": "99c4a78c-5124-4b0b-b43c-a0d5f8c8331d",
   "metadata": {},
   "outputs": [],
   "source": [
    "import astropy\n",
    "import numpy as np\n",
    "import astropy.units as u\n",
    "import matplotlib.pyplot as plt\n",
    "import astropy.coordinates as coord\n",
    "from astropy.coordinates import Galactocentric as gc"
   ]
  },
  {
   "cell_type": "code",
   "execution_count": 17,
   "id": "8a85d853-4a94-497f-a70d-bf74bd3a52f1",
   "metadata": {},
   "outputs": [],
   "source": [
    "gc().representation_info\n",
    "gc_sample = gc(10*u.kpc , np.pi*u.rad , 0.5*u.kpc, representation_type = 'cylindrical')"
   ]
  },
  {
   "cell_type": "code",
   "execution_count": 18,
   "id": "8dccdbf6-ae5f-408f-a599-e6891ddce88a",
   "metadata": {},
   "outputs": [
    {
     "data": {
      "text/plain": [
       "<Galactocentric Coordinate (galcen_coord=<ICRS Coordinate: (ra, dec) in deg\n",
       "    (266.4051, -28.936175)>, galcen_distance=8.122 kpc, galcen_v_sun=(12.9, 245.6, 7.78) km / s, z_sun=20.8 pc, roll=0.0 deg): (rho, phi, z) in (kpc, deg, kpc)\n",
       "    (10., 180., 0.5)>"
      ]
     },
     "execution_count": 18,
     "metadata": {},
     "output_type": "execute_result"
    }
   ],
   "source": [
    "gc_sample"
   ]
  },
  {
   "cell_type": "code",
   "execution_count": 38,
   "id": "5110201c-f6d0-451a-975d-4fba5d4d18f8",
   "metadata": {},
   "outputs": [],
   "source": [
    "c = coord.SkyCoord(rho= 0 * u.kpc,\n",
    "                   phi= np.pi * u.rad,\n",
    "                   z= 0 * u.kpc,\n",
    "                   frame=coord.Galactocentric, representation_type = 'cylindrical')\n",
    "icrs_coord = c.transform_to(coord.ICRS) "
   ]
  },
  {
   "cell_type": "code",
   "execution_count": 39,
   "id": "ed8f243e-044e-498d-a1fd-a1504949d1d8",
   "metadata": {},
   "outputs": [
    {
     "name": "stdout",
     "output_type": "stream",
     "text": [
      "<SkyCoord (ICRS): (ra, dec, distance) in (deg, deg, kpc)\n",
      "    (266.4051, -28.936175, 8.122)>\n"
     ]
    }
   ],
   "source": [
    "print(icrs_coord)"
   ]
  },
  {
   "cell_type": "code",
   "execution_count": null,
   "id": "5e4ba55a-77be-4cfe-a324-6cb9f7fdb71f",
   "metadata": {},
   "outputs": [],
   "source": []
  }
 ],
 "metadata": {
  "kernelspec": {
   "display_name": "grav",
   "language": "python",
   "name": "grav"
  },
  "language_info": {
   "codemirror_mode": {
    "name": "ipython",
    "version": 3
   },
   "file_extension": ".py",
   "mimetype": "text/x-python",
   "name": "python",
   "nbconvert_exporter": "python",
   "pygments_lexer": "ipython3",
   "version": "3.10.12"
  }
 },
 "nbformat": 4,
 "nbformat_minor": 5
}
